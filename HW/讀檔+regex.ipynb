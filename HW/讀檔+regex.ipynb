{
 "cells": [
  {
   "cell_type": "markdown",
   "metadata": {},
   "source": [
    "## <font color=#0000FF>程式作業四</font>\n",
    "1. **繳交期限為<font color=#FF6600> 2021/05/12 08:00</font> 以前上傳至 Moodle LMS 教學平台。**  \n",
    " <br></br>\n",
    "2. **上傳作業時，必須完成以下幾件事：**\n",
    "    * **將目前您所看到的此檔案(hw4.ipynb)，改為(<font color=#FF00FF>您的學號</font><font color=#0000FF>_hw4.ipynb</font>)。**\n",
    "    * **建立一個全新的資料夾，將上述作業檔案置入，並將資料夾的名稱改為<font color=#FF00FF>您的學號</font>。**\n",
    "    * **將上述包含作業的資料夾以 <font color=#FF0000>ZIP</font> 格式壓縮後上傳。**   \n",
    "    <br></br>\n",
    "3. **注意事項：**\n",
    "    * **<font color=#FF0000>所有程式作業應積極相互討論，但不得寫出同一版本或相互抄襲。您所完成繳交的作業是否有抄襲由評分的助教自行判斷，不會找您來確認，因為不會有兩個人會寫出相同的程式！所以強烈建議不要任意將自己已經完成的作業程式碼公開分享給其他同學。</font>**\n",
    "    * **<font color=#FF0000>本次作業不得使用 Pandas 套件來完成！</font>**   \n",
    "    <br></br>\n",
    "4. **評分依據：**\n",
    "    1. **標頭註解與指令註解完整度    <font color=#0000FF>30%</font>**\n",
    "    2. **程式的輸出入格式與內容 <font color=#0000FF>20%</font>**\n",
    "    3. **程式執行正確性(含)\t   <font color=#0000FF>50%</font>**    \n",
    "    <br></br>\n",
    "5. **標頭註解與指令註解的撰寫請參考教學平台上老師提供的範例，至於要使用 Markdown 或 Code comments 的方式來撰寫請自選，程式盡量【逐行】或以【區塊方式】加註解說明，越完整清楚越好。**"
   ]
  },
  {
   "cell_type": "markdown",
   "metadata": {},
   "source": [
    "### <font color=#FF6600>作業內容</font>\n"
   ]
  },
  {
   "cell_type": "markdown",
   "metadata": {},
   "source": [
    "### 臺中市110年01月份十大易肇事路段(口)　\n",
    "**資料來源：[臺中市110年01月份十大高肇事路口交通事故資料 — 台中市政府資料開放平台](https://opendata.taichung.gov.tw/dataset/2a689ba1-80cf-41c4-9f0d-b58cf601d947)**"
   ]
  },
  {
   "cell_type": "markdown",
   "metadata": {},
   "source": [
    "### <font color=#0000FF>第一題：</font>\n",
    "**請您參考老師於上課時在「CSV_JSON_XML_檔案存取與處理基礎.ipynb」教材中，曾講解過其中“<font color=#0000FF>如何下載與讀取一個在網路上其它主機內已經被ZIP壓縮過的CSV資料檔案</font>”的範例，現在上述臺中市110年01月份十大易肇事路段(口)的網頁上有 CSV 格式的資料檔，請參考老師範例，並依照以下要求完成作業：**\n",
    "1. **不可以預先手動下載「110年01月臺中市10大易肇事路口.CSV」到您的主機裡，您的程式必須模仿老師提供的範例，可到目標檔案「109年12月臺中市10大易肇事路口.CSV」所在的網址上，自動抓取檔案下載到您的主機裡存放，未做到此要求扣重分！但提醒您，老師範例中的目標檔案是有壓縮的，而此次作業中的目標檔案是沒有壓縮的，所以您不需要學範例中額外處理解壓縮部分。**\n",
    "2. **將上述下載的「110年01月臺中市10大易肇事路口.CSV」檔案內所有<font color=#FF00FF >欄位的標題</font>單獨列印成一行，每一個欄位標題前後用<font  size=\"4\" color=#0000FF>『』</font>框住，並以逗點(<font size=\"5\" color=#0000FF>，</font>)隔開，同時計算並列印出欄位的數量。**\n",
    "3. **將檔案內所有欄位標題與每一筆資料列印出來，<font color=#FF0000>每一個欄位內的資料必須盡量對齊排列</font>，可以參照如下面所呈現的格式，越整齊分數越高！**"
   ]
  },
  {
   "cell_type": "raw",
   "metadata": {},
   "source": [
    "『110年01月臺中市10大易肇事路口.csv』 共有 10 個欄位，分別為： \n",
    "『編號』,『轄區分局』,『路口名稱』,『A1』,『A2件數』,『A2受傷』,『A3』,『總件數』,『發生時間』,『主要肇因』\n",
    "\n",
    "\n",
    "編號　轄區分局　路口名稱　　　　　　A1　A2件數　A2受傷　A3　總件數　發生時間　　主要肇因　　　　　　　　　　　\n",
    "1　　第六分局　西屯區環中路西屯路　　0　　9　　　　12　　6　　15　　16-18　    未注意車前狀態　　　　　　　　\n",
    "2　　第六分局　西屯區文心路臺灣大道　0　　7　　　　8　　 7　　14　　16-18　    其他引起事故之違規或不當行為　\n",
    "3　　第六分局　西屯區惠中路臺灣大道　0　　8　　　　14　　6　　14　　20-22　    違反特定標誌(線)禁制　　　　\n",
    "4　　第六分局　西屯區安和路臺灣大道　0　　5　　　　7　　 7　　12　　8-10　　   未依規定讓車　　　　　　　　　\n",
    "5　　第六分局　西屯區中清路環中路　　0　　1　　　　1　　11　  12　　14-16　    未保持行車安全間隔　　　　　　\n",
    "6　　第六分局　西屯區青海路黎明路　　0　　10　　　15　　 1　　11　　16-18　    未依規定讓車　　　　　　　　　\n",
    "7　　豐原分局　豐原區三豐路國豐路　　0　　3　　　　4　　 7　　10　　 6-8　　　  未保持行車安全距離　　　　　　\n",
    "8　　第五分局　北屯區北屯路松竹路　　0　　4　　　　4　　 5　　9　　　16-18　    未注意車前狀態　　　　　　　　\n",
    "9　　第二分局　北區精武路雙十路　　　0　　4　　　　4　　 5　　9　　　16-18　    未保持行車安全間隔　　　　　　\n",
    "10　 第六分局　西屯區東大路臺灣大道　0　　6　　　　10　　2　　8　　　8-10　　   未注意車前狀態　"
   ]
  },
  {
   "cell_type": "code",
   "execution_count": 1,
   "metadata": {
    "scrolled": true
   },
   "outputs": [
    {
     "name": "stdout",
     "output_type": "stream",
     "text": [
      "『110年01月臺中市10大易肇事路口.csv』 共有 10 個欄位，分別為：\n",
      " 『編號』,『轄區分局』,『路口名稱』,『A1』,『A2件數』,『A2受傷』,『A3』,『總件數』,『發生時間』,『主要肇因』\n",
      "\n",
      "編號  轄區分局       路口名稱     \t A1  A2件數  A2受傷   A3  總件數   發生時間        主要肇因      \n",
      "########################################################################################################################\n",
      "  1   第六分局   西屯區環中路西屯路  \t 0     9      12      6    15      16-18     未注意車前狀態        \n",
      "  2   第六分局   西屯區文心路臺灣大道 \t 0     7       8      7    14      16-18     其他引起事故之違規或不當行為 \n",
      "  3   第六分局   西屯區惠中路臺灣大道 \t 0     8      14      6    14      20-22     違反特定標誌(線)禁制    \n",
      "  4   第六分局   西屯區安和路臺灣大道 \t 0     5       7      7    12       8-10     未依規定讓車         \n",
      "  5   第六分局   西屯區中清路環中路  \t 0     1       1     11    12      14-16     未保持行車安全間隔      \n",
      "  6   第六分局   西屯區青海路黎明路  \t 0    10      15      1    11      16-18     未依規定讓車         \n",
      "  7   豐原分局   豐原區三豐路國豐路  \t 0     3       4      7    10       6-8      未保持行車安全距離      \n",
      "  8   第五分局   北屯區北屯路松竹路  \t 0     4       4      5     9      16-18     未注意車前狀態        \n",
      "  9   第二分局   北區精武路雙十路   \t 0     4       4      5     9      16-18     未保持行車安全間隔      \n",
      " 10   第六分局   西屯區東大路臺灣大道 \t 0     6      10      2     8       8-10     未注意車前狀態        \n"
     ]
    }
   ],
   "source": [
    "import urllib.request #套用urllib.request模組 用來取得從URLs資料\n",
    "import csv #套用csv的模組\n",
    "urllib.request.urlretrieve('https://datacenter.taichung.gov.tw/swagger/OpenData/6bb100e6-0f81-4e3a-8d23-7fe16f929bf1','web')\n",
    "             #將網址上的檔案下載存為web\n",
    "with open('web', 'r', encoding = 'utf-8-sig') as f: #開啟檔案web，r讀取，返回的資料採用utf-8-sig編碼\n",
    "    data = csv.reader(f, delimiter = ',') # 以逗號分隔欄位，讀取檔案內容\n",
    "    for i,rows in enumerate(data):        #for loop計數，利用enumerate獲得索引和值\n",
    "        if i == 0:                        #索引值為 0 表示第一列\n",
    "            count=len(rows)               #計算欄位的數量        \n",
    "            for i in range(len(rows)):    #for loop跑第一列每個元素\n",
    "                rows[i] = '『' +rows[i] +'』'  #將串列每個元素都用『』符號框住\n",
    "            newrow = ','.join(rows)            #用','做為串列裡的元素的分割 並將元素存進newrows\n",
    "            print('『110年01月臺中市10大易肇事路口.csv』 共有',count,'個欄位，分別為：\\n',newrow+\"\\n\") #列印\n",
    "#---重新開啟檔案,因為for loop結束檔案已讀取完關閉---#\n",
    "with open('web', 'r', encoding = 'utf-8-sig') as f: #開啟檔案web，r讀取，返回的資料採用utf-8-sig編碼\n",
    "    data = csv.reader(f) # 讀取檔案內容\n",
    "    title = next(data) #next() data下一個輸入行也就是標頭 存為title\n",
    "    print(\"{:<3} {:5} {:^14}\\t {:3} {:5} {:6} {:2} {:^6} {:6} {:^15}\".format(*title))\n",
    "                                #將字串格式化方式整齊印出, {} 的位置會被後方 format 所帶的參數所取代\n",
    "                                #ex:{:^3}:置中對齊，寬度為3 ; {:<8}:靠右對齊，寬度為8\n",
    "    print(\"##\"*60)     #分隔線\n",
    "    for row in data:   #for loop跑欄位\n",
    "        if row[0]:    #確保串列下行印出不為空值 row [ 0~9 ]均有值 \n",
    "            print(\"{:^5} {:6} {: <11}\\t {:^2} {:^7} {:^7} {:^5} {:^5} {:^12} {:15}\".format(*row))\n",
    "                                #將字串格式化方式整齊印出,{} 的位置會被後方 format 所帶的參數所取代\n",
    "f.close() #關閉檔案"
   ]
  },
  {
   "cell_type": "markdown",
   "metadata": {},
   "source": [
    "### <font color=#0000FF>第二題：</font>\n",
    "**題目要求完全與第一題一樣，但目標檔案是「110年01月臺中市10大易肇事路口.JSON」**\n",
    "                                                      "
   ]
  },
  {
   "cell_type": "code",
   "execution_count": 2,
   "metadata": {
    "scrolled": false
   },
   "outputs": [
    {
     "name": "stdout",
     "output_type": "stream",
     "text": [
      "『110年01月臺中市10大易肇事路口.JSON』 共有 10 個欄位，分別為:\n",
      " 『編號』,『轄區分局』,『路口名稱』,『A1』,『A2件數』,『A2受傷』,『A3』,『總件數』,『發生時間』,『主要肇因』\n",
      "\n",
      "編號  轄區分局       路口名稱     \t A1  A2件數  A2受傷   A3  總件數   發生時間        主要肇因      \n",
      "########################################################################################################################\n",
      "  1   第六分局   西屯區臺灣大道黎明路  \t 0    10      15      7    17      18-20     違反號誌管制或指揮      \n",
      "  2   第六分局   西屯區臺灣大道惠中路  \t 0     7       9      8    15      14-16     未注意車前狀態        \n",
      "  3   第六分局   西屯區臺灣大道文心路  \t 0     9      11      5    14      14-16     未注意車前狀態        \n",
      "  4   第六分局   西屯區中清聯絡道環中路 \t 0     0       0     12    12      18-20     未保持行車安全間隔      \n",
      "  5   第四分局   南屯區五權西路二段環中路\t 0     6       6      6    12      16-18     未注意車前狀態        \n",
      "  6   第五分局   北屯區文心路崇德路   \t 0    10      12      1    11       8-10     違反特定標誌(線)禁制    \n",
      "  7   第三分局   南區忠明南路國光路   \t 0     4       4      7    11      10-12     未依規定讓車         \n",
      "  8   第三分局   南區國光路復興路    \t 0     8      10      2    10       8-10     違反特定標誌(線)禁制    \n",
      "  9   第一分局   西區自由路林森路    \t 0     9       9      1    10      10-12     違反特定標誌(線)禁制    \n",
      " 10   第六分局   西屯區工業區一路臺灣大道\t 0     5       5      4     9       8-10     未注意車前狀態        \n"
     ]
    }
   ],
   "source": [
    "import json #套用json的模組\n",
    "import urllib.request #套用urllib.request模組 用來取得從URLs資料\n",
    "urllib.request.urlretrieve('https://datacenter.taichung.gov.tw/swagger/OpenData/c5a1044e-e7f0-4227-9734-d9278cf62311','web')\n",
    "#將網址上的檔案下載存為web\n",
    "with open('web', 'r', encoding = 'utf-8-sig') as file:#開啟檔案，用r讀取，返回的資料採用utf-8-sig編碼存為file\n",
    "    data = json.load(file)                # 讀取檔案內容\n",
    "    for i,rows in enumerate(data):        #for loop計數，利用enumerate獲得索引和值\n",
    "        if i == 0:                        #索引值為 0 表示第一列\n",
    "            count=len(rows)               #計算欄位的數量\n",
    "            row=list(rows)                #將rows值儲存進串列row\n",
    "            for i in range(len(row)):      #for loop跑第一列每個元素\n",
    "                row[i] = \"『\" +row[i] +\"』\" #將每個元素都用『』符號框住儲存\n",
    "            newrow = ','.join(row)          #用','做為串列裡的元素的分割 並將元素存進newrows           \n",
    "    print('『110年01月臺中市10大易肇事路口.JSON』 共有',count,'個欄位，分別為:\\n',newrow+\"\\n\") #列印\n",
    "#---重新開啟檔案,因為for loop結束檔案已讀取完關閉---#\n",
    "with open('web', 'r', encoding = 'utf-8-sig') as file:  #開啟檔案，用r讀取，返回的資料採用utf-8-sig編碼\n",
    "    data = json.load(file)                 # 讀取檔案內容\n",
    "    print('{:<3} {:5} {:^14}\\t {:3} {:5} {:6} {:2} {:^6} {:6} {:^15}'.format('編號','轄區分局','路口名稱','A1','A2件數','A2受傷','A3','總件數','發生時間','主要肇因'))\n",
    "                                         #將字串格式化方式整齊輸出，字典形式呼叫。{}的位置會被後方 format 所帶的參數所取代\n",
    "    print(\"##\"*60)     #分隔線\n",
    "    for i in data:     #以for loop跑字典\n",
    "        if i['編號']!='':   #確保印出不為空值\n",
    "            print(\"{:^5} {:6} {: <12}\\t {:^2} {:^7} {:^7} {:^5} {:^5} {:^12} {:15}\".format(i['編號'],i['轄區分局'],i['路口名稱'],i['A1'],i['A2件數'],i['A2受傷'],i['A3'],i['總件數'],i['發生時間'],i['主要肇因']))\n",
    "                                            #將字串格式化方式整齊印出,，字典形式呼叫。{} 的位置會被後方 format 所帶的參數所取代\n",
    "    file.close() #關閉檔案       "
   ]
  },
  {
   "cell_type": "markdown",
   "metadata": {},
   "source": [
    "### <font color=#0000FF>第三題：</font>\n",
    "**題目要求完全與第一題一樣，但目標檔案是「110年01月臺中市10大易肇事路口.XML」**                                                "
   ]
  },
  {
   "cell_type": "code",
   "execution_count": 3,
   "metadata": {
    "scrolled": false
   },
   "outputs": [
    {
     "name": "stdout",
     "output_type": "stream",
     "text": [
      "『110年01月臺中市10大易肇事路口.XML』 共有 10 個欄位，分別為：\n",
      "『編號』,『轄區分局』,『路口名稱』,『A1』,『A2件數』,『A2受傷』,『A3』,『總件數』,『發生時間』,『主要肇因』 \n",
      "\n",
      "編號  轄區分局       路口名稱     \t A1  A2件數  A2受傷   A3  總件數   發生時間        主要肇因      \n",
      "########################################################################################################################\n",
      "  1   第六分局   西屯區臺灣大道黎明路  \t 0    10      15      7    17      18-20     違反號誌管制或指揮      \n",
      "  2   第六分局   西屯區臺灣大道惠中路  \t 0     7       9      8    15      14-16     未注意車前狀態        \n",
      "  3   第六分局   西屯區臺灣大道文心路  \t 0     9      11      5    14      14-16     未注意車前狀態        \n",
      "  4   第六分局   西屯區中清聯絡道環中路 \t 0     0       0     12    12      18-20     未保持行車安全間隔      \n",
      "  5   第四分局   南屯區五權西路二段環中路\t 0     6       6      6    12      16-18     未注意車前狀態        \n",
      "  6   第五分局   北屯區文心路崇德路   \t 0    10      12      1    11       8-10     違反特定標誌(線)禁制    \n",
      "  7   第三分局   南區忠明南路國光路   \t 0     4       4      7    11      10-12     未依規定讓車         \n",
      "  8   第三分局   南區國光路復興路    \t 0     8      10      2    10       8-10     違反特定標誌(線)禁制    \n",
      "  9   第一分局   西區自由路林森路    \t 0     9       9      1    10      10-12     違反特定標誌(線)禁制    \n",
      " 10   第六分局   西屯區工業區一路臺灣大道\t 0     5       5      4     9       8-10     未注意車前狀態        \n"
     ]
    }
   ],
   "source": [
    "import urllib.request #套用urllib.request模組 用來取得從URLs資料\n",
    "import xml.etree.ElementTree as XET #套用xml.etree.ElementTree的模組\n",
    "\n",
    "urllib.request.urlretrieve('https://datacenter.taichung.gov.tw/swagger/OpenData/fe19e91b-02be-4788-8d59-ef2f62dd49ea','web')\n",
    "#將網址上的檔案下載存為web\n",
    "tree = XET.parse('web')  # 以XET套件載入XML檔案\n",
    "root = tree.getroot()    # 取得XML表格\n",
    "print('『110年01月臺中市10大易肇事路口.XML』 共有',len(root[0]),'個欄位，分別為：')  #列印 \n",
    "                                                                #len(root[0])用來計算第一列的數目\n",
    "for child in root[:1]:        #遍歷child第一層節點的子節點\n",
    "    for grandchild in child:  #遍歷child第一行的孫節點                        \n",
    "                grandchild.tag = '『' +grandchild.tag +'』' #將每個元素都用『』符號框住\n",
    "                if grandchild.tag == \"『主要肇因』\":       #如果tag屬性為最後一值\n",
    "                    print(grandchild.tag,\"\\n\")            #輸出且換行\n",
    "                else: print(grandchild.tag,end=',')       #tag屬性不為最後一值，每個後加逗號\n",
    "print('{:<3} {:5} {:^14}\\t {:3} {:5} {:6} {:2} {:^6} {:6} {:^15}'.format('編號','轄區分局','路口名稱','A1','A2件數','A2受傷','A3','總件數','發生時間','主要肇因'))\n",
    "                                    #將字串格式化方式整齊輸出，字典形式呼叫。{}的位置會被後方 format所帶的參數所取代\n",
    "print(\"##\"*60)     #分隔線\n",
    "tplt=\"{:^5} {:6} {: <12}\\t {:^2} {:^7} {:^7} {:^5} {:^5} {:^12} {:15}\" #格式化形式存為 tplt\n",
    "for account in root:   #for loop跑每個xml text\n",
    "    if(account[0].text!= None) : #篩選空值(None)，因為格式化字串無法輸出None會出現error\n",
    "        print(tplt.format(account[0].text,account[1].text,account[2].text,account[3].text,account[4].text\n",
    "                    ,account[5].text,account[6].text,account[7].text,account[8].text,account[9].text))\n",
    "                                 #將字串格式化方式整齊印出,，字典形式呼叫。{} 的位置會被後方 format所帶的參數所取代"
   ]
  },
  {
   "cell_type": "markdown",
   "metadata": {},
   "source": [
    "**<font color=#FF0000>在繳交作業時，以您學號為名的資料夾內只允許有這一份 <您的學號_hw4.ipynb> 檔案，要有完整的標頭與註解說明，同時不得有其它任何格式的資料檔或資料夾預存在內，您的作業在驗收執行時要一條龍式(網路上找到檔案下載 → 解壓縮讀取檔案內的資料 → 依作業要求來呈現格式化的資料)的自動完成這三題的所有要求！</font>**"
   ]
  }
 ],
 "metadata": {
  "kernelspec": {
   "display_name": "Python 3",
   "language": "python",
   "name": "python3"
  },
  "language_info": {
   "codemirror_mode": {
    "name": "ipython",
    "version": 3
   },
   "file_extension": ".py",
   "mimetype": "text/x-python",
   "name": "python",
   "nbconvert_exporter": "python",
   "pygments_lexer": "ipython3",
   "version": "3.8.5"
  }
 },
 "nbformat": 4,
 "nbformat_minor": 2
}
