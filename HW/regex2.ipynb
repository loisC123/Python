{
 "cells": [
  {
   "cell_type": "markdown",
   "metadata": {},
   "source": [
    "## <font color=#0000FF>程式作業二</font>\n",
    "1. **繳交期限為<font color=#FF6600> 2021/10/28 24:00</font> 以前上傳至 Moodle LMS 教學平台。**\n",
    "2. **上傳作業時，必須完成以下幾件事：**\n",
    "    * **將目前您所看到的此檔案(hw2.ipynb)，改為(<font color=#FF00FF>您的學號</font><font color=#0000FF>_hw2.ipynb</font>)。**\n",
    "    * **建立一個全新的資料夾，將上述作業檔案置入，並將資料夾的名稱改為<font color=#FF00FF>您的學號</font>。**\n",
    "    * **將上述包含作業的資料夾以 <font color=#FF0000>ZIP</font> 格式壓縮後上傳。**\n",
    "\n",
    "3. **<font color=#FF0000>注意事項：所有程式作業應積極相互討論，但不得寫出同一版本或相互抄襲。您所完成繳交的作業是否有抄襲由評分的助教自行判斷，不會找您來確認，因為不會有兩個人會寫出相同的程式！所以強烈建議不要任意將自己已經完成的作業程式碼公開分享給其他同學。</font>**\n",
    "4. **評分依據：**\n",
    "    1. **標頭註解與指令註解完整度    <font color=#0000FF>30%</font>**\n",
    "    2. **程式的輸出入格式與內容 <font color=#0000FF>20%</font>**\n",
    "    3. **程式執行正確性(含)\t   <font color=#0000FF>50%</font>**\n",
    "5. **標頭註解與指令註解的撰寫請參考教學平台上老師提供的範例，至於要使用 Markdown 或 Code comments 的方式來撰寫請自選，程式盡量【逐行】或以【區塊方式】加註解說明，越完整清楚越好。**"
   ]
  },
  {
   "cell_type": "markdown",
   "metadata": {},
   "source": [
    "### <font color=#FF6600>作業內容</font>\n",
    "**在撰寫Python程式時，程式設計師會使用Python所提供的<font color=#c71585>單行註解</font>與<font color=#c71585>多行註解</font>指令來強化程式的可讀性，如下圖中所示，<font color=##FF0080>原始檔案中有36行的程式碼</font>。**<br></br><br></br>\n",
    "<div><img src=\"pics/hw2_1.png\" width=\"400\"/></div><br></br>\n",
    "\n",
    "**本次作業請你使用正規表示式(Regular Expression)的技巧，設計出適當的pattern並運用re套件中的方法，將檔案\"hw2.py\"(如上圖)中所有的註解移除，並刪除這一些註解所佔有的位置與空間，其結果如下圖所示，<font color=##FF0080>只剩下18行的程式碼</font>。**<br></br><br></br>\n",
    "<div><img src=\"pics/hw2_2.png\" width=\"400\"/></div><br></br>\n",
    "\n",
    "**本作業所需注意事項如下：**\n",
    "1. **您必須以開啟文字檔的方式，將 hw2.py 的內容讀入至您的程式之中再依照上述要求完成。**\n",
    "2. **最後處理之後的結果不需要寫入 hw2.py 之中來覆蓋原始檔案的內容，只需在目前的 notebook 中呈現結果即可。**"
   ]
  },
  {
   "cell_type": "code",
   "execution_count": 16,
   "metadata": {},
   "outputs": [
    {
     "name": "stdout",
     "output_type": "stream",
     "text": [
      "\n",
      "x = 10    \n",
      "\n",
      "y = 3.14  \n",
      "\n",
      "print('\\#') \n",
      "\n",
      "z = \"\"\"This is\n",
      "not a comment,\n",
      "it is a string!\n",
      "\"\"\"\n",
      "print(\"\\nz =\", z)\n",
      "\n",
      "w = '''這不是註解，\n",
      "這是另一個字串！\n",
      "'''\n",
      "print(\"\\nw = \", w)\n",
      "input(\"press enter key to exit...\")\n"
     ]
    }
   ],
   "source": [
    "import re\n",
    "def remove_comments(text):   #建立函數remove_comments\n",
    "    #def replace()\n",
    "    pattern = re.compile(\n",
    "        r\"((?<!\\\\)#.*)|^'.+[\\n\\w\\W][^']+?\\n'+$|^\\\".+[\\n\\w\\W][^\\\"]+?\\n\\\"+$\",\n",
    "        # ((?<!\\\\)#.*) 前面不能有\\符號 但後面要接# (Negative lookbehind) \n",
    "        # ^'.+[\\n\\w\\W][^']+?\\n'+$  處理多行註解一，起始為'、接多個字元包含換行符，'結尾\n",
    "        # ^\\\".+[\\n\\w\\W][^\\\"]+?\\n\\\"+$ 處理多行註解二，起始為\"、接多個字元包含換行符，\"結尾\n",
    "        re.MULTILINE   #使 規則 ^(開始)和 $(結尾) 不限於一行\n",
    "    )\n",
    "    a=re.sub(pattern,\"?\",text)   #符合pattern 改為?符號 作為記號 存為a\n",
    "\n",
    "    c=[]                         #串列c\n",
    "    a = a.splitlines()           # a以 行的方式 存入\n",
    "\n",
    "    for line in a:                         #for loop讀取每行\n",
    "        res = re.match(r\"[' ']*[?]\",line)  #找出剛剛所標記之?符號 為res\n",
    "        if res ==None:                     #沒有?符號的 存入串列c\n",
    "            c.append(line)\n",
    "    #==每行做篩選，如那行有?符號以外的字符，?也會一同存入c，以下處理==#\n",
    "    c = [item.replace(\"?\", \"\") for item in c]   #將?符號轉為空格\n",
    "    \n",
    "    for i in c:               #印出串列 (符合題目所求18行)\n",
    "        print(i)\n",
    "        \n",
    "f = open('hw2.py',\"r\",encoding=\"utf-8\")  #開啟檔案hw2.py，編碼含繁體字\n",
    "data = f.read()                          #讀檔存為data\n",
    "remove_comments(data)                    #進入remove_comments()含式\n",
    "f.close()                                #關閉檔案"
   ]
  }
 ],
 "metadata": {
  "kernelspec": {
   "display_name": "Python 3",
   "language": "python",
   "name": "python3"
  },
  "language_info": {
   "codemirror_mode": {
    "name": "ipython",
    "version": 3
   },
   "file_extension": ".py",
   "mimetype": "text/x-python",
   "name": "python",
   "nbconvert_exporter": "python",
   "pygments_lexer": "ipython3",
   "version": "3.8.5"
  }
 },
 "nbformat": 4,
 "nbformat_minor": 4
}
