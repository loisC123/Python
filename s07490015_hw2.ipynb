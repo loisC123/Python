{
 "cells": [
  {
   "cell_type": "markdown",
   "metadata": {},
   "source": [
    "## <font color=#0000FF>程式作業二</font>\n",
    "1. **繳交期限為<font color=#FF6600> 2021/04/13 24:00</font> 以前上傳至 Moodle LMS 教學平台。**\n",
    "2. **上傳作業時，必須完成以下幾件事：**\n",
    "    * **將目前您所看到的此檔案(hw2.ipynb)，改為(<font color=#FF00FF>您的學號</font><font color=#0000FF>_hw2.ipynb</font>)。**\n",
    "    * **建立一個全新的資料夾，將上述作業檔案置入，並將資料夾的名稱改為<font color=#FF00FF>您的學號</font>。**\n",
    "    * **將上述包含作業的資料夾以 <font color=#FF0000>ZIP</font> 格式壓縮後上傳。**\n",
    "\n",
    "3. **<font color=#FF0000>注意事項：所有程式作業應積極相互討論，但不得寫出同一版本或相互抄襲。您所完成繳交的作業是否有抄襲由評分的助教自行判斷，不會找您來確認，因為不會有兩個人會寫出相同的程式！所以強烈建議不要任意將自己已經完成的作業程式碼公開分享給其他同學。</font>**\n",
    "4. **評分：**\n",
    "    1. **共有五題，每一題佔<font color=#0000FF> 20分</font>。**\n",
    "    2. **評分依據：程式的輸出入格式與內容<font color=#0000FF> (30%) </font>程式執行正確性<font color=#0000FF> (50%)</font>。**\n",
    "    3. **本次作業只需要在每一行的指令處，盡可能的撰寫註解，占評分的<font color=#0000FF> (20%)</font>。**"
   ]
  },
  {
   "cell_type": "markdown",
   "metadata": {},
   "source": [
    "### <font color=#FF6600>作業內容</font>"
   ]
  },
  {
   "cell_type": "markdown",
   "metadata": {},
   "source": [
    "#### P1\n",
    "**下表為摩斯密碼(Morse code)表 [[1]](https://zh.wikipedia.org/wiki/%E6%91%A9%E5%B0%94%E6%96%AF%E7%94%B5%E7%A0%81)**\n",
    "\n",
    "|Letter|Code|Letter|Code|Letter|Code|Letter|Code|\n",
    "|:----:|:--:|:----:|:--:|:----:|:--:|:----:|:-----:|\n",
    "|A\t  |.-  |J\t  |.---\t|S    |... |1\t  |.----|\n",
    "|B\t  |-...|K\t  |-.-\t|T\t  |-   |2\t  |..---|\n",
    "|C\t  |-.-.|L\t  |.-..\t|U\t  |..- |3\t  |...--|\n",
    "|D\t  |-.. |M\t  |--\t|V\t  |...-|4\t  |....-|\n",
    "|E\t  |.   |N\t  |-.\t|W\t  |.-- |5\t  |.....|\n",
    "|F\t  |..-.|O\t  |---\t|X\t  |-..-|6\t  |-....|\n",
    "|G\t  |--. |P\t  |.--.\t|Y\t  |-.--|7\t  |--...|\n",
    "|H\t  |....|Q\t  |--.-\t|Z\t  |--..|8\t  |---..|\n",
    "|I\t  |..  |R\t  |.-.\t|0\t  |-----|9\t  |----.|\n",
    "\n",
    "<br></br>\n",
    "**請依照以下要求完成本次作業：將輸入的依序進行以下幾個步驟的處理，並將每一個步驟的處理結果輸出到螢幕上：**\n",
    "1. **將上述摩斯密碼表以字典方式建置完成。** <br></br><br></br>\n",
    "\n",
    "2. **輸入任意長度與內容的英文句子字串，並於螢幕上輸出相對應的摩斯編碼內容，其處理要求如下：**\n",
    "    * **如輸入小寫英文字母，一律轉成大寫英文字母後再處理。** <br></br><br></br>\n",
    "    * **若輸入的字串中含有任何非上述摩斯密碼表所定義的字元，則一律略過不處理。**\n",
    "    <br></br><br></br>\n",
    "3. **每一個英文單字一律拆解為一個一個的單一字元，其排列順序不變，而轉碼後，每一個字元的摩斯碼之間會以一個空格隔開。**<br></br><br></br>\n",
    "4. **程式結束時會自動取得當地的日期時間並顯示於螢幕之上：**\n",
    "    * **使用 Python 內建(built-in)的時間模組來取得。**  <br></br><br></br>\n",
    "    * **使用細節請自行參考網頁 [(一)](https://www.twcode01.com/python3/python3-date-time.html)、[(二)](https://www.w3schools.com/python/python_datetime.asp)、[(三)](http://kaiching.org/pydoing/py/python-library-datetime.html)、[(四)](https://clay-atlas.com/blog/2019/11/07/python-chinese-tutorial-datetime/)，輸出格式不限。**<br></br><br></br>\n",
    "    \n",
    "**程式執行範例如下：(藍色為輸入，粉紅色為輸出)**<br></br>\n",
    "<br></br>\n",
    "**請輸入一行英文句子？<font color=#0000FF>Help me!</font>**\n",
    "\n",
    "**<font color=#FF00FF>Help me! 的摩斯密碼為 =>&nbsp;....  &nbsp;.  &nbsp;.-..  &nbsp;.--.  &nbsp;--  &nbsp;.</font>**\n",
    "     \n",
    "**<font color=#FF00FF>本程式於 Sat Mar 27 05:22:57 2021 執行完畢</font>**\n"
   ]
  },
  {
   "cell_type": "code",
   "execution_count": 1,
   "metadata": {},
   "outputs": [
    {
     "name": "stdout",
     "output_type": "stream",
     "text": [
      "請輸入一行英文句子[]5\n",
      "[]5 的摩斯密碼為 => ..... \n",
      "本程式於 Mon Apr  5 14:04:54 2021 執行完畢\n"
     ]
    }
   ],
   "source": [
    "import datetime #匯入datetime模組\n",
    "#-----設定字典-----#\n",
    "code = {'A': '.-', 'B': '-...', 'C': '-.-.', 'D': '-..', 'E': '.', 'F': '..-.', 'G': '--.', 'H': '....',\n",
    "             'I': '..', 'J': '.---', 'K': '-.-', 'L': '.-..', 'M': '--', 'N': '-.', 'O': '---', 'P': '.--.',\n",
    "             'Q': '--.-', 'R': '.-.', 'S': '...', 'T': '-', 'U': '..-', 'V': '...-', 'W': '.--', 'X': '-..-',\n",
    "             'Y': '-.--', 'Z': '--..', '0': '-----', '1': '.----', '2': '..---', '3': '...--', '4': '....-',\n",
    "             '5': '.....', '6': '-....', '7': '--...', '8': '---..', '9': '----.'}\n",
    "#-----輸入文字-----#\n",
    "msg = input('請輸入一行英文句子') \n",
    "#將輸入文字存在msg\n",
    "print(msg+' 的摩斯密碼為 => ',end='') #印出輸入文字\n",
    "                    #python會自動在最後加上換行\"\\n\"字串，為了不換行，使用end=''使最後的\"/n\"不讀取\n",
    "for i in msg.upper(): #for loop逐一讀取輸入文字，並將所輸入文字透過.upper()轉為大寫\n",
    "    if(bool(i in code) == True):\n",
    "#使用布林值 (bool)判斷字串是否存在於字典code中，i in code會回傳 True或是 False值，如果True則執行\n",
    "         print(code[i],\"\",end='') #印出字典，使用\" \"達到單一字元空格隔開，使用end=''不換行。\n",
    "x = datetime.datetime.now() #使用模組datetime內的datetime類型將現在時間設為X\n",
    "print(x.strftime(\"\\n本程式於 %c 執行完畢\")) #strftime()函数返回可讀字符串表示的當地時間\n",
    "                                        #並使用%c印出當地日期和時間"
   ]
  },
  {
   "cell_type": "markdown",
   "metadata": {},
   "source": [
    "# P2\n",
    "**請設計一個程式，判斷票價收費標準，原票價收費是 100 元，使用者輸入年紀之後程式可以計算要收取的費用，若輸入年紀小於等於 6 歲或大於 80 歲，收費打 2 折，若輸入的年紀範圍是 7-12 歲或是 60-79 歲，則收費打 5 折，最後印出收取的費用。**<br></br><br></br>\n",
    "**<font color=#0000FF>本題需要做防呆機制，如果使用者輸入的年齡不是一個整數物件、零整數或是一個負整數，則您的程式必須一直重複在輸入提示的階段，直到輸入一個正整數為止！(至於如何處理物件資料的型態匹配問題？請上網找線索)</font>**<br></br><br></br>\n",
    "\n",
    "\n",
    "**程式執行範例如下：(藍色為輸入，粉紅色為輸出)**<br></br><br></br>\n",
    "**Please enter your age : <font color=#0000FF>'Hi'</font>**<br></br>\n",
    "**Please enter your age : <font color=#0000FF>34.5</font>**<br></br>\n",
    "**Please enter your age : <font color=#0000FF>['a', 'b']</font>**<br></br>\n",
    "**Please enter your age : <font color=#0000FF>-9</font>**<br></br>\n",
    "**Please enter your age : <font color=#0000FF>25</font>**<br></br>\n",
    "\n",
    "**<font color=#FF00FF>Your age is 25 yrs old, and your ticket price is $100.00</font>**"
   ]
  },
  {
   "cell_type": "code",
   "execution_count": 2,
   "metadata": {},
   "outputs": [
    {
     "name": "stdout",
     "output_type": "stream",
     "text": [
      "Please enter your age :.01\n",
      "請輸入整數!\n",
      "Please enter your age :245\n",
      "Your age is 245 yrs old, and your ticket price is $20.00\n"
     ]
    }
   ],
   "source": [
    "while True: #使用while迴圈讓程式可以重複執行\n",
    "#-----輸入文字-----#\n",
    "    number = input(\"Please enter your age :\") \n",
    "#-----判斷是否輸入正整數------# \n",
    "#-----使用異常處理:處理一些不可預期的使用者行為------# \n",
    "    try: #嘗試執行程式碼\n",
    "        val = int(number) #將使用者輸入轉為int型態設為val\n",
    "        if val < 0:       # 如果是負數\n",
    "            print(\"請輸入正數!\") #跳出提示字串\n",
    "            continue           #重新要求使用者輸入\n",
    "        break  #如果是正數，跳出while迴圈\n",
    "    except ValueError: #當程式出現異常時執行這邊的程式碼。ex:使用者輸入字串、小數等...\n",
    "        print(\"請輸入整數!\") #跳出提示字串\n",
    "#-----判斷票價-----#\n",
    "if (val<=6 or val>80): #判斷輸入年紀小於等於6歲或大於80歲，收費打2折\n",
    "    print(\"Your age is \"+str(val)+\" yrs old, and your ticket price is $20.00\")\n",
    "                                            #字串輸出，整數型態需強制轉型str()\n",
    "elif 6<=val<=12 or 60<=val<=79:#判斷輸入範圍是7-12歲或是60-79歲，則收費打5折\n",
    "    print(\"Your age is \"+str(val)+\" yrs old, and your ticket price is $50.00\")\n",
    "else: #其餘的按照原價100元\n",
    "    print(\"Your age is \"+str(val)+\" yrs old, and your ticket price is $100.00\")\n",
    "    "
   ]
  },
  {
   "cell_type": "markdown",
   "metadata": {},
   "source": [
    "#### P3\n",
    "**所謂的迴文(Palindrome)，其定義為一個字串或數字，無論是正向或是反向讀到的順序與內容均相同。請設計一個程式，輸入 5 位數的整數，檢視並判斷此整數是否為迴文數。例如，輸入: 1221，輸出不是迴文(長度不為5)；輸入: 12345，輸出不是迴文；輸入: 51315，輸出是迴文。**\n"
   ]
  },
  {
   "cell_type": "code",
   "execution_count": 17,
   "metadata": {
    "scrolled": false
   },
   "outputs": [
    {
     "name": "stdout",
     "output_type": "stream",
     "text": [
      "請輸入一個5位數的整數數字：-121-\n",
      "請輸入整數!\n",
      "是迴文\n"
     ]
    }
   ],
   "source": [
    "#-----程式1 不只可輸入數字-----#\n",
    "# s = input('請輸入一個5位數的整數數字：')#使用者輸入字串\n",
    "# a = reversed(list(s)) #使用reversed()函數會返回反轉的序列，要先將字串轉成字串列表。\n",
    "# if len(s)!=5: #判斷長度不為5\n",
    "#      print('不是迴文(長度不為5)') #輸出\n",
    "# elif list(a) == list(s): #判別原字串a和反轉的s，是否一樣\n",
    "#      print('是迴文') #輸出\n",
    "# else: #反轉字串不一樣\n",
    "#      print('不是迴文') #輸出\n",
    "#----以上不只可以輸入數字-----#"
   ]
  },
  {
   "cell_type": "code",
   "execution_count": 21,
   "metadata": {},
   "outputs": [
    {
     "name": "stdout",
     "output_type": "stream",
     "text": [
      "請輸入一個5位數的整數數字：ABCBA\n",
      "請輸入整數!\n"
     ]
    }
   ],
   "source": [
    "#----程式2 只可輸入整數----#\n",
    "number=input(\"請輸入一個5位數的整數：\")#使用者輸入\n",
    "try: #嘗試執行程式碼\n",
    "        n = int(number) #將使用者輸入轉為int型態設為n，過濾其輸入為整數型態\n",
    "        if n < 0 :       # 如果是負數，不可能為迴文\n",
    "            print(\"請輸入正數!\") #跳出提示字串\n",
    "        n=str(n)  #確定為整數後，轉為字串\n",
    "        m=n[::-1] #將n字串反轉設為m\n",
    "        if(len(n)==5 and m==n): #確認是否5位數且原字串與反轉字串相同\n",
    "            print(\"是迴文\") #輸出\n",
    "        elif(m!=n): #字串反轉不相同\n",
    "            print(\"不是迴文\") #輸出\n",
    "        else: #字串不為5位數\n",
    "            print('不是迴文(長度不為5)')\n",
    "except ValueError: #輸入非整數。ex:輸入字串、小數等...\n",
    "        print(\"請輸入整數!\") #跳出提示字串"
   ]
  },
  {
   "cell_type": "markdown",
   "metadata": {},
   "source": [
    "#### P4\n",
    "**請設計一個程式，可以任意輸入2個整數(integers)a與b(a,b可為正整數或負整數，且a≠b，a>b或是a<b均可以適用)，您的程式要在a與b之間產生10個隨機的實數(floating/real numbers)，並將這10個隨機數由小到大排序完畢，並將結果列印於螢幕上。本題需要使用到Python的【隨機亂數產生套件】,【排序方法】以及 List 物件，請自行參考教學網頁 [[1]](https://docs.python.org/3/library/random.html) [[2]](https://docs.python.org/3/library/functions.html?highlight=sorted#sorted)**"
   ]
  },
  {
   "cell_type": "code",
   "execution_count": 16,
   "metadata": {
    "scrolled": false
   },
   "outputs": [
    {
     "name": "stdout",
     "output_type": "stream",
     "text": [
      "請輸入第一個整數:11\n",
      "請輸入第二個整數:10\n",
      "[10.048124441294416, 10.122582239957417, 10.170396920341854, 10.233247081800966, 10.344677739090843, 10.349288721368856, 10.446260886997463, 10.815758008359097, 10.825383015494685, 10.86270323702316]\n"
     ]
    }
   ],
   "source": [
    "import random #匯入random模組\n",
    "while True: #使用while迴圈讓程式可以重複執行\n",
    "#-----輸入文字-----#\n",
    "    number1 = input(\"請輸入第一個整數:\") #提示使用者輸入，存為number1\n",
    "    number2 = input(\"請輸入第二個整數:\") #提示使用者輸入，存為number2\n",
    "#-----判斷是否輸入同一整數------# \n",
    "#-----使用異常處理:處理一些不可預期的使用者行為------# \n",
    "    try: #嘗試執行程式碼\n",
    "        val1 = int(number1) #將使用者輸入轉為int型態設為val1(驗證整數)\n",
    "        val2 = int(number2) #將使用者輸入轉為int型態設為val2(驗證整數)\n",
    "        if val1 == val2:       # 如果輸入為同一數\n",
    "            print(\"請輸入不同數字!\") #跳出提示字串\n",
    "            continue           #重新要求使用者輸入\n",
    "        break  #如兩數不同，跳出while迴圈\n",
    "    except ValueError: #當程式出現異常時執行這邊的程式碼。ex:使用者輸入字元、小數等...\n",
    "        print(\"請輸入整數!\") #跳出提示字串\n",
    "list = [random.uniform(val1,val2) for _ in range(10)] #使用random.uniform生成val1~val2的隨機浮點數\n",
    "                                                        #並用for loop跑10次存進list\n",
    "list.sort() #排序list\n",
    "print(list) #列印結果"
   ]
  },
  {
   "cell_type": "markdown",
   "metadata": {},
   "source": [
    "#### P5\n",
    "**請設計一個程式，可以任意輸入一個英文句子，並依序進行以下幾個步驟的處理，將每一個步驟的處理結果輸出到螢幕上：<br></br><br></br>\n",
    "(a). 將輸入的字串使用空白字元進行字串切割，請找出句子中所有單字，並顯示所有單字出來。<br></br><br></br>\n",
    "(b). 將上述(a)中的結果以空白字元還原回原來輸入的字串。<br></br><br></br>\n",
    "(c). 將數入的字串中所有單字的字首改成大寫。<br></br><br></br>\n",
    "程式執行範例如下：(藍色為輸入，粉紅色為輸出)：<br></br><br></br>\n",
    "請輸入一行英文句子？<font color=#0000FF>The Python is a beautiful and powerful programming language !</font><br></br><br></br>\n",
    "將英文句子以空白字元切割後，獲得單字為 <font color=#FF00FF>['The', 'Python', 'is', 'a', 'beautiful', 'and', 'powerful', 'programming', 'language', '!']</font><br></br><br></br>\n",
    "以空白字元結合所有單字後，獲得句子為 <font color=#FF00FF>The Python is a beautiful and powerful programming language !</font><br></br><br></br>\n",
    "將每個單字字首轉大寫後，獲得句子為 <font color=#FF00FF>The Python Is A Beautiful And Powerful Programming Language ! </font><br></br><br></br>\n",
    "本題需要使用到Python的【字串處理方法】，請自行參考教學網頁 [[1]](https://kirin.idv.tw/python-string-basic/) [[2]](https://www.python-ds.com/python-3-string-methods) [[3]](http://web.suda.edu.cn/hejun/chapter8/python_8_2.html#python1) [[4]](https://www.programiz.com/python-programming/methods/string)**"
   ]
  },
  {
   "cell_type": "code",
   "execution_count": 16,
   "metadata": {},
   "outputs": [
    {
     "name": "stdout",
     "output_type": "stream",
     "text": [
      "請輸入一行英文句子:i love you\n",
      "(a)將英文句子以空白字元切割後，獲得單字為:  ['i', 'love', 'you']\n",
      "(b)以空白字元結合所有單字後，獲得句子為: i love you\n",
      "(c)將每個單字字首轉大寫後，獲得句子為: I Love You\n"
     ]
    }
   ],
   "source": [
    "sen =input(\"請輸入一行英文句子:\") #提示使用者輸入，將字串存為sen\n",
    "word = sen.split() #使用split()函式以空格分隔字串\n",
    "print(\"(a)將英文句子以空白字元切割後，獲得單字為: \",word) #印出分隔後字串\n",
    "print(\"(b)以空白字元結合所有單字後，獲得句子為: \" + \" \".join(word)) #使用join()空格功能將分隔後字串串聯並印出\n",
    "print(\"(c)將每個單字字首轉大寫後，獲得句子為: \" + \" \".join([item[0].upper() + item[1:] for item in word])) \n",
    "   #使用for loop對於每個分割字串[0]存取使用.upper()將其變大寫，後面加上item[1:]一個個字元存取並印出"
   ]
  },
  {
   "cell_type": "code",
   "execution_count": null,
   "metadata": {},
   "outputs": [],
   "source": []
  }
 ],
 "metadata": {
  "kernelspec": {
   "display_name": "Python 3",
   "language": "python",
   "name": "python3"
  },
  "language_info": {
   "codemirror_mode": {
    "name": "ipython",
    "version": 3
   },
   "file_extension": ".py",
   "mimetype": "text/x-python",
   "name": "python",
   "nbconvert_exporter": "python",
   "pygments_lexer": "ipython3",
   "version": "3.8.5"
  }
 },
 "nbformat": 4,
 "nbformat_minor": 2
}
